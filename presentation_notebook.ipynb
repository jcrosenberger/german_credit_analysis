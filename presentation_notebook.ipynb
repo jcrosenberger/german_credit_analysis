{
 "cells": [
  {
   "cell_type": "code",
   "execution_count": 38,
   "id": "fc79e9d8-5326-4b70-8f52-230c6a09ae3a",
   "metadata": {},
   "outputs": [],
   "source": [
    "import pandas as pd\n",
    "import numpy as np\n",
    "\n",
    "from scipy.stats import spearmanr, pearsonr, f_oneway, chi2_contingency\n",
    "\n",
    "import src.german_credit_acquire as gca\n",
    "import src.german_evaluate as ge\n",
    "import src.german_modelling as gm\n",
    "\n",
    "from importlib import reload"
   ]
  },
  {
   "cell_type": "markdown",
   "id": "f137cbaa-223b-462a-846b-0db7d6e4b5b4",
   "metadata": {},
   "source": [
    "## Data Dictionary\n",
    "\n",
    "\n",
    "| Feature | Definition | Manipulations applied|Data Type|\n",
    "|--------|-----------|-----------|-----------|\n",
    "||\n",
    "|||**Categorical Data**\n",
    "||\n",
    "|*county_name*| Identifying Regions: counties and LA city proper  | Used fips and city ID to determine 'LA', 'Orange', 'Ventura' counties and 'LA_city' proper| category\n",
    "|||**Numerical Data**\n",
    "||\n",
    "|*beds*|  Number of bedrooms | Changed the type into integer| integer\n",
    "|*bath*|  Number of bathrooms | Half-bathrooms were turned into whole number, changed the type intoto integer| integer\n",
    "|*bed_bath_ratio*|  The ratio of bedrooms to bathrooms | Divided bedroom number by bathroom number | float\n",
    "|*lot_sqft*| Size of the plot of land the house sits on | Changed the type into integer| integer\n",
    "|*age*| Age of the house | Created the column by subtracting the year_built from 2017| integer\n",
    "|*tax_amount*| The home value assessed by the tax collection authority | integer\n",
    "|*garage_sqft*| Size of the garage with the property | Changed the type into integer| integer\n",
    "||\n",
    "|||**Boolean Data**\n",
    "|*fireplace*| Identifies whether a home has a hottub or a spa | |boolean\n",
    "|*hottub_spa*| Identifies whether a home has a hottub or a spa | |boolean\n",
    "|*garage*| Identifies whether a home has a garage | | boolean\n",
    "|||**Target Data**\n",
    "||\n",
    "|**logerror** | **The difference between Zillow's estimated price and actual sale price** | **standardized using logarithmic ratio** | **float**"
   ]
  },
  {
   "cell_type": "code",
   "execution_count": 42,
   "id": "595ce919-74c9-41ce-b899-a649cc7fa4df",
   "metadata": {},
   "outputs": [],
   "source": [
    "train, _,__ = gca.get_german_credit()"
   ]
  },
  {
   "cell_type": "code",
   "execution_count": 34,
   "id": "e9adb94b-d319-4534-9e9d-1b6722fb713a",
   "metadata": {},
   "outputs": [],
   "source": [
    "categorical_variables = ['housing','checking account','saving accounts','job','age_groups']"
   ]
  },
  {
   "cell_type": "code",
   "execution_count": 43,
   "id": "aaf9d326-2c50-41dd-9170-99715c4a6bb7",
   "metadata": {},
   "outputs": [],
   "source": [
    "df = ge.chi2_categorical_test(train, 'risk', categorical_variables)"
   ]
  },
  {
   "cell_type": "code",
   "execution_count": 44,
   "id": "c8ee966b-880e-4561-9c6e-5cb5b5aab171",
   "metadata": {},
   "outputs": [
    {
     "data": {
      "text/html": [
       "<div>\n",
       "<style scoped>\n",
       "    .dataframe tbody tr th:only-of-type {\n",
       "        vertical-align: middle;\n",
       "    }\n",
       "\n",
       "    .dataframe tbody tr th {\n",
       "        vertical-align: top;\n",
       "    }\n",
       "\n",
       "    .dataframe thead th {\n",
       "        text-align: right;\n",
       "    }\n",
       "</style>\n",
       "<table border=\"1\" class=\"dataframe\">\n",
       "  <thead>\n",
       "    <tr style=\"text-align: right;\">\n",
       "      <th></th>\n",
       "      <th>Potential_Feature</th>\n",
       "      <th>Chi2_stat</th>\n",
       "      <th>P-Value</th>\n",
       "      <th>Significance</th>\n",
       "      <th>Keep</th>\n",
       "    </tr>\n",
       "  </thead>\n",
       "  <tbody>\n",
       "    <tr>\n",
       "      <th>0</th>\n",
       "      <td>housing</td>\n",
       "      <td>9.584</td>\n",
       "      <td>0.008</td>\n",
       "      <td>0.992</td>\n",
       "      <td>Yes</td>\n",
       "    </tr>\n",
       "    <tr>\n",
       "      <th>1</th>\n",
       "      <td>checking account</td>\n",
       "      <td>65.653</td>\n",
       "      <td>0.000</td>\n",
       "      <td>1.000</td>\n",
       "      <td>Yes</td>\n",
       "    </tr>\n",
       "    <tr>\n",
       "      <th>2</th>\n",
       "      <td>saving accounts</td>\n",
       "      <td>14.894</td>\n",
       "      <td>0.005</td>\n",
       "      <td>0.995</td>\n",
       "      <td>Yes</td>\n",
       "    </tr>\n",
       "    <tr>\n",
       "      <th>4</th>\n",
       "      <td>age_groups</td>\n",
       "      <td>15.420</td>\n",
       "      <td>0.001</td>\n",
       "      <td>0.999</td>\n",
       "      <td>Yes</td>\n",
       "    </tr>\n",
       "    <tr>\n",
       "      <th>3</th>\n",
       "      <td>job</td>\n",
       "      <td>6.441</td>\n",
       "      <td>0.092</td>\n",
       "      <td>0.908</td>\n",
       "      <td>No</td>\n",
       "    </tr>\n",
       "  </tbody>\n",
       "</table>\n",
       "</div>"
      ],
      "text/plain": [
       "  Potential_Feature  Chi2_stat  P-Value  Significance Keep\n",
       "0           housing      9.584    0.008         0.992  Yes\n",
       "1  checking account     65.653    0.000         1.000  Yes\n",
       "2   saving accounts     14.894    0.005         0.995  Yes\n",
       "4        age_groups     15.420    0.001         0.999  Yes\n",
       "3               job      6.441    0.092         0.908   No"
      ]
     },
     "execution_count": 44,
     "metadata": {},
     "output_type": "execute_result"
    }
   ],
   "source": [
    "df"
   ]
  },
  {
   "cell_type": "code",
   "execution_count": null,
   "id": "c7c4dbc5-8c9d-409c-81cd-fb24c5616828",
   "metadata": {},
   "outputs": [],
   "source": []
  }
 ],
 "metadata": {
  "kernelspec": {
   "display_name": "Python 3 (ipykernel)",
   "language": "python",
   "name": "python3"
  },
  "language_info": {
   "codemirror_mode": {
    "name": "ipython",
    "version": 3
   },
   "file_extension": ".py",
   "mimetype": "text/x-python",
   "name": "python",
   "nbconvert_exporter": "python",
   "pygments_lexer": "ipython3",
   "version": "3.9.15"
  }
 },
 "nbformat": 4,
 "nbformat_minor": 5
}
