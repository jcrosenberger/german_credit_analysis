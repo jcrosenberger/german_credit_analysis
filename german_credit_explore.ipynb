{
 "cells": [
  {
   "cell_type": "code",
   "execution_count": 12,
   "id": "ec09e48e-120c-4acd-8efe-711536eb1f59",
   "metadata": {},
   "outputs": [],
   "source": [
    "# whole standard Data Science library\n",
    "import pandas as pd\n",
    "import numpy as np\n",
    "\n",
    "\n",
    "# setting random seed to 7\n",
    "np.random.seed(7)\n",
    "\n",
    "#vizualization libraries\n",
    "import seaborn as sns\n",
    "import matplotlib.pyplot as plt\n",
    "import plotly.express as px\n",
    "\n",
    "# selected functions from Data Science libraries\n",
    "from sklearn.tree import DecisionTreeClassifier, plot_tree, export_text\n",
    "from sklearn.model_selection import train_test_split\n",
    "from sklearn.metrics import classification_report, confusion_matrix, plot_confusion_matrix, ConfusionMatrixDisplay\n",
    "from sklearn.ensemble import RandomForestClassifier\n",
    "from sklearn.linear_model import LogisticRegression\n",
    "from sklearn.model_selection import train_test_split\n",
    "from sklearn.neighbors import KNeighborsClassifier\n",
    "from scipy.stats import spearmanr, pearsonr, f_oneway\n",
    "\n",
    "#import project modules\n",
    "import src.german_credit_acquire as gca\n",
    "import src.german_evaluate as ev\n",
    "\n",
    "import os\n",
    "\n",
    "\n",
    "# libraries for convenience\n",
    "pd.options.display.float_format = '{:,.3f}'.format\n",
    "\n",
    "# turning off red warnings\n",
    "import warnings\n",
    "warnings.filterwarnings(\"ignore\")\n",
    "\n",
    "# module for fixing imported modules\n",
    "from importlib import reload"
   ]
  },
  {
   "cell_type": "code",
   "execution_count": 65,
   "id": "5416aa4b-169a-419d-998c-7922850faf21",
   "metadata": {},
   "outputs": [],
   "source": [
    "train, validate, test = gca.get_german_credit()"
   ]
  },
  {
   "cell_type": "code",
   "execution_count": 36,
   "id": "048c1ab5-18a5-456f-a596-89ce85279ac0",
   "metadata": {},
   "outputs": [],
   "source": [
    "feature_list = ['age', 'sex', 'job', 'credit amount', 'duration']"
   ]
  },
  {
   "cell_type": "code",
   "execution_count": 126,
   "id": "52eb6add-0a0e-435d-8222-18e7d77a161c",
   "metadata": {},
   "outputs": [
    {
     "data": {
      "text/html": [
       "<div>\n",
       "<style scoped>\n",
       "    .dataframe tbody tr th:only-of-type {\n",
       "        vertical-align: middle;\n",
       "    }\n",
       "\n",
       "    .dataframe tbody tr th {\n",
       "        vertical-align: top;\n",
       "    }\n",
       "\n",
       "    .dataframe thead th {\n",
       "        text-align: right;\n",
       "    }\n",
       "</style>\n",
       "<table border=\"1\" class=\"dataframe\">\n",
       "  <thead>\n",
       "    <tr style=\"text-align: right;\">\n",
       "      <th></th>\n",
       "      <th>Potential_Feature</th>\n",
       "      <th>F-stat</th>\n",
       "      <th>Significance</th>\n",
       "      <th>Keep</th>\n",
       "    </tr>\n",
       "  </thead>\n",
       "  <tbody>\n",
       "    <tr>\n",
       "      <th>0</th>\n",
       "      <td>housing</td>\n",
       "      <td>3.961</td>\n",
       "      <td>0.980</td>\n",
       "      <td>Yes</td>\n",
       "    </tr>\n",
       "    <tr>\n",
       "      <th>1</th>\n",
       "      <td>checking</td>\n",
       "      <td>28.380</td>\n",
       "      <td>1.000</td>\n",
       "      <td>Yes</td>\n",
       "    </tr>\n",
       "    <tr>\n",
       "      <th>2</th>\n",
       "      <td>savings</td>\n",
       "      <td>7.211</td>\n",
       "      <td>1.000</td>\n",
       "      <td>Yes</td>\n",
       "    </tr>\n",
       "  </tbody>\n",
       "</table>\n",
       "</div>"
      ],
      "text/plain": [
       "  Potential_Feature  F-stat  Significance Keep\n",
       "0           housing   3.961         0.980  Yes\n",
       "1          checking  28.380         1.000  Yes\n",
       "2           savings   7.211         1.000  Yes"
      ]
     },
     "execution_count": 126,
     "metadata": {},
     "output_type": "execute_result"
    }
   ],
   "source": [
    "categorical_variable_test = ev.ftest_df(train)\n",
    "categorical_variable_test"
   ]
  },
  {
   "cell_type": "code",
   "execution_count": 125,
   "id": "8e775edb-0cf3-4446-add5-d9f588261825",
   "metadata": {},
   "outputs": [
    {
     "data": {
      "text/html": [
       "<div>\n",
       "<style scoped>\n",
       "    .dataframe tbody tr th:only-of-type {\n",
       "        vertical-align: middle;\n",
       "    }\n",
       "\n",
       "    .dataframe tbody tr th {\n",
       "        vertical-align: top;\n",
       "    }\n",
       "\n",
       "    .dataframe thead th {\n",
       "        text-align: right;\n",
       "    }\n",
       "</style>\n",
       "<table border=\"1\" class=\"dataframe\">\n",
       "  <thead>\n",
       "    <tr style=\"text-align: right;\">\n",
       "      <th></th>\n",
       "      <th>Potential_Feature</th>\n",
       "      <th>Coefficient</th>\n",
       "      <th>P-Value</th>\n",
       "      <th>Significance</th>\n",
       "      <th>Keep</th>\n",
       "    </tr>\n",
       "  </thead>\n",
       "  <tbody>\n",
       "    <tr>\n",
       "      <th>0</th>\n",
       "      <td>age</td>\n",
       "      <td>0.090</td>\n",
       "      <td>0.034</td>\n",
       "      <td>0.966</td>\n",
       "      <td>Yes</td>\n",
       "    </tr>\n",
       "    <tr>\n",
       "      <th>1</th>\n",
       "      <td>sex</td>\n",
       "      <td>0.075</td>\n",
       "      <td>0.075</td>\n",
       "      <td>0.925</td>\n",
       "      <td>No</td>\n",
       "    </tr>\n",
       "    <tr>\n",
       "      <th>2</th>\n",
       "      <td>job</td>\n",
       "      <td>-0.047</td>\n",
       "      <td>0.266</td>\n",
       "      <td>0.734</td>\n",
       "      <td>No</td>\n",
       "    </tr>\n",
       "    <tr>\n",
       "      <th>3</th>\n",
       "      <td>credit amount</td>\n",
       "      <td>-0.157</td>\n",
       "      <td>0.000</td>\n",
       "      <td>1.000</td>\n",
       "      <td>Yes</td>\n",
       "    </tr>\n",
       "    <tr>\n",
       "      <th>4</th>\n",
       "      <td>duration</td>\n",
       "      <td>-0.232</td>\n",
       "      <td>0.000</td>\n",
       "      <td>1.000</td>\n",
       "      <td>Yes</td>\n",
       "    </tr>\n",
       "  </tbody>\n",
       "</table>\n",
       "</div>"
      ],
      "text/plain": [
       "  Potential_Feature  Coefficient  P-Value  Significance Keep\n",
       "0               age        0.090    0.034         0.966  Yes\n",
       "1               sex        0.075    0.075         0.925   No\n",
       "2               job       -0.047    0.266         0.734   No\n",
       "3     credit amount       -0.157    0.000         1.000  Yes\n",
       "4          duration       -0.232    0.000         1.000  Yes"
      ]
     },
     "execution_count": 125,
     "metadata": {},
     "output_type": "execute_result"
    }
   ],
   "source": [
    "continuous_variable_test = ev.pearson_test_df(train, 'risk', feature_list)\n",
    "continuous_variable_test"
   ]
  },
  {
   "cell_type": "code",
   "execution_count": 124,
   "id": "e8c3f80e-c76a-4546-ab60-866c691b8fb7",
   "metadata": {},
   "outputs": [
    {
     "data": {
      "image/png": "[encoded data removed]",
      "text/plain": [
       "<Figure size 1000x1000 with 2 Axes>"
      ]
     },
     "metadata": {},
     "output_type": "display_data"
    }
   ],
   "source": [
    "ev.correlate_viz(train, 'risk')"
   ]
  },
  {
   "cell_type": "code",
   "execution_count": 123,
   "id": "950a9bb2-7d6f-44be-9b8e-e50f37fb6f0f",
   "metadata": {},
   "outputs": [],
   "source": []
  },
  {
   "cell_type": "code",
   "execution_count": 136,
   "id": "781cab22-b8c6-4c3d-bd6a-370486430485",
   "metadata": {},
   "outputs": [
    {
     "data": {
      "text/plain": [
       "['own', 'rent', 'free']"
      ]
     },
     "execution_count": 136,
     "metadata": {},
     "output_type": "execute_result"
    }
   ],
   "source": [
    "train['housing'].unique().to_list()"
   ]
  },
  {
   "cell_type": "code",
   "execution_count": null,
   "id": "e9c500a1-c212-4363-a1ed-e94e112769a1",
   "metadata": {},
   "outputs": [],
   "source": []
  }
 ],
 "metadata": {
  "kernelspec": {
   "display_name": "Python 3 (ipykernel)",
   "language": "python",
   "name": "python3"
  },
  "language_info": {
   "codemirror_mode": {
    "name": "ipython",
    "version": 3
   },
   "file_extension": ".py",
   "mimetype": "text/x-python",
   "name": "python",
   "nbconvert_exporter": "python",
   "pygments_lexer": "ipython3",
   "version": "3.9.15"
  }
 },
 "nbformat": 4,
 "nbformat_minor": 5
}
