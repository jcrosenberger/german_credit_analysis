{
 "cells": [
  {
   "cell_type": "code",
   "execution_count": 1,
   "id": "ec09e48e-120c-4acd-8efe-711536eb1f59",
   "metadata": {},
   "outputs": [],
   "source": [
    "# whole standard Data Science library\n",
    "import pandas as pd\n",
    "import numpy as np\n",
    "\n",
    "\n",
    "# setting random seed to 7\n",
    "np.random.seed(7)\n",
    "\n",
    "#vizualization libraries\n",
    "import seaborn as sns\n",
    "import matplotlib.pyplot as plt\n",
    "import plotly.express as px\n",
    "\n",
    "# selected functions from Data Science libraries\n",
    "from sklearn.tree import DecisionTreeClassifier, plot_tree, export_text\n",
    "from sklearn.model_selection import train_test_split\n",
    "from sklearn.metrics import classification_report, confusion_matrix, plot_confusion_matrix, ConfusionMatrixDisplay\n",
    "from sklearn.ensemble import RandomForestClassifier\n",
    "from sklearn.linear_model import LogisticRegression\n",
    "from sklearn.model_selection import train_test_split\n",
    "from sklearn.neighbors import KNeighborsClassifier\n",
    "from scipy.stats import spearmanr, pearsonr, f_oneway, chi2_contingency\n",
    "\n",
    "#import project modules\n",
    "import src.german_credit_acquire as gca\n",
    "import src.german_evaluate as ev\n",
    "\n",
    "import os\n",
    "\n",
    "\n",
    "# libraries for convenience\n",
    "pd.options.display.float_format = '{:,.3f}'.format\n",
    "\n",
    "# turning off red warnings\n",
    "import warnings\n",
    "warnings.filterwarnings(\"ignore\")\n",
    "\n",
    "# module for fixing imported modules\n",
    "from importlib import reload"
   ]
  },
  {
   "cell_type": "code",
   "execution_count": 217,
   "id": "5416aa4b-169a-419d-998c-7922850faf21",
   "metadata": {},
   "outputs": [],
   "source": [
    "train, validate, test = gca.get_german_credit()"
   ]
  },
  {
   "cell_type": "code",
   "execution_count": 33,
   "id": "7a2c1771-fbc2-4e97-85da-e213fea9a3df",
   "metadata": {},
   "outputs": [],
   "source": [
    "df = gca.acquire_german_credit()"
   ]
  },
  {
   "cell_type": "code",
   "execution_count": 35,
   "id": "762c52f8-fc66-4483-835e-429a3162472b",
   "metadata": {},
   "outputs": [
    {
     "data": {
      "text/plain": [
       "Index(['Age', 'Sex', 'Job', 'Housing', 'Saving accounts', 'Checking account',\n",
       "       'Credit amount', 'Duration', 'Purpose', 'Risk'],\n",
       "      dtype='object')"
      ]
     },
     "execution_count": 35,
     "metadata": {},
     "output_type": "execute_result"
    }
   ],
   "source": [
    "df.columns"
   ]
  },
  {
   "cell_type": "code",
   "execution_count": 39,
   "id": "c9c55d00-8c53-4c63-be87-a5f94d56cfb9",
   "metadata": {},
   "outputs": [
    {
     "data": {
      "text/plain": [
       "0"
      ]
     },
     "execution_count": 39,
     "metadata": {},
     "output_type": "execute_result"
    }
   ],
   "source": [
    "df['Job'].isna().sum()"
   ]
  },
  {
   "cell_type": "code",
   "execution_count": 36,
   "id": "048c1ab5-18a5-456f-a596-89ce85279ac0",
   "metadata": {},
   "outputs": [],
   "source": [
    "feature_list = ['age', 'sex', 'job', 'credit amount', 'duration']"
   ]
  },
  {
   "cell_type": "code",
   "execution_count": 73,
   "id": "52eb6add-0a0e-435d-8222-18e7d77a161c",
   "metadata": {},
   "outputs": [
    {
     "data": {
      "text/html": [
       "<div>\n",
       "<style scoped>\n",
       "    .dataframe tbody tr th:only-of-type {\n",
       "        vertical-align: middle;\n",
       "    }\n",
       "\n",
       "    .dataframe tbody tr th {\n",
       "        vertical-align: top;\n",
       "    }\n",
       "\n",
       "    .dataframe thead th {\n",
       "        text-align: right;\n",
       "    }\n",
       "</style>\n",
       "<table border=\"1\" class=\"dataframe\">\n",
       "  <thead>\n",
       "    <tr style=\"text-align: right;\">\n",
       "      <th></th>\n",
       "      <th>Potential_Feature</th>\n",
       "      <th>F-stat</th>\n",
       "      <th>Significance</th>\n",
       "      <th>Keep</th>\n",
       "    </tr>\n",
       "  </thead>\n",
       "  <tbody>\n",
       "    <tr>\n",
       "      <th>0</th>\n",
       "      <td>housing</td>\n",
       "      <td>4.990</td>\n",
       "      <td>0.993</td>\n",
       "      <td>Yes</td>\n",
       "    </tr>\n",
       "    <tr>\n",
       "      <th>1</th>\n",
       "      <td>checking</td>\n",
       "      <td>22.874</td>\n",
       "      <td>1.000</td>\n",
       "      <td>Yes</td>\n",
       "    </tr>\n",
       "    <tr>\n",
       "      <th>2</th>\n",
       "      <td>savings</td>\n",
       "      <td>6.048</td>\n",
       "      <td>1.000</td>\n",
       "      <td>Yes</td>\n",
       "    </tr>\n",
       "    <tr>\n",
       "      <th>3</th>\n",
       "      <td>job</td>\n",
       "      <td>0.603</td>\n",
       "      <td>0.386</td>\n",
       "      <td>No</td>\n",
       "    </tr>\n",
       "  </tbody>\n",
       "</table>\n",
       "</div>"
      ],
      "text/plain": [
       "  Potential_Feature  F-stat  Significance Keep\n",
       "0           housing   4.990         0.993  Yes\n",
       "1          checking  22.874         1.000  Yes\n",
       "2           savings   6.048         1.000  Yes\n",
       "3               job   0.603         0.386   No"
      ]
     },
     "execution_count": 73,
     "metadata": {},
     "output_type": "execute_result"
    }
   ],
   "source": [
    "categorical_variable_test = ev.ftest_df(train)\n",
    "categorical_variable_test"
   ]
  },
  {
   "cell_type": "code",
   "execution_count": 125,
   "id": "8e775edb-0cf3-4446-add5-d9f588261825",
   "metadata": {},
   "outputs": [
    {
     "data": {
      "text/html": [
       "<div>\n",
       "<style scoped>\n",
       "    .dataframe tbody tr th:only-of-type {\n",
       "        vertical-align: middle;\n",
       "    }\n",
       "\n",
       "    .dataframe tbody tr th {\n",
       "        vertical-align: top;\n",
       "    }\n",
       "\n",
       "    .dataframe thead th {\n",
       "        text-align: right;\n",
       "    }\n",
       "</style>\n",
       "<table border=\"1\" class=\"dataframe\">\n",
       "  <thead>\n",
       "    <tr style=\"text-align: right;\">\n",
       "      <th></th>\n",
       "      <th>Potential_Feature</th>\n",
       "      <th>Coefficient</th>\n",
       "      <th>P-Value</th>\n",
       "      <th>Significance</th>\n",
       "      <th>Keep</th>\n",
       "    </tr>\n",
       "  </thead>\n",
       "  <tbody>\n",
       "    <tr>\n",
       "      <th>0</th>\n",
       "      <td>age</td>\n",
       "      <td>0.090</td>\n",
       "      <td>0.034</td>\n",
       "      <td>0.966</td>\n",
       "      <td>Yes</td>\n",
       "    </tr>\n",
       "    <tr>\n",
       "      <th>1</th>\n",
       "      <td>sex</td>\n",
       "      <td>0.075</td>\n",
       "      <td>0.075</td>\n",
       "      <td>0.925</td>\n",
       "      <td>No</td>\n",
       "    </tr>\n",
       "    <tr>\n",
       "      <th>2</th>\n",
       "      <td>job</td>\n",
       "      <td>-0.047</td>\n",
       "      <td>0.266</td>\n",
       "      <td>0.734</td>\n",
       "      <td>No</td>\n",
       "    </tr>\n",
       "    <tr>\n",
       "      <th>3</th>\n",
       "      <td>credit amount</td>\n",
       "      <td>-0.157</td>\n",
       "      <td>0.000</td>\n",
       "      <td>1.000</td>\n",
       "      <td>Yes</td>\n",
       "    </tr>\n",
       "    <tr>\n",
       "      <th>4</th>\n",
       "      <td>duration</td>\n",
       "      <td>-0.232</td>\n",
       "      <td>0.000</td>\n",
       "      <td>1.000</td>\n",
       "      <td>Yes</td>\n",
       "    </tr>\n",
       "  </tbody>\n",
       "</table>\n",
       "</div>"
      ],
      "text/plain": [
       "  Potential_Feature  Coefficient  P-Value  Significance Keep\n",
       "0               age        0.090    0.034         0.966  Yes\n",
       "1               sex        0.075    0.075         0.925   No\n",
       "2               job       -0.047    0.266         0.734   No\n",
       "3     credit amount       -0.157    0.000         1.000  Yes\n",
       "4          duration       -0.232    0.000         1.000  Yes"
      ]
     },
     "execution_count": 125,
     "metadata": {},
     "output_type": "execute_result"
    }
   ],
   "source": [
    "continuous_variable_test = ev.pearson_test_df(train, 'risk', feature_list)\n",
    "continuous_variable_test"
   ]
  },
  {
   "cell_type": "markdown",
   "id": "003e82a1-6b61-4254-846d-a4d5b85d05dd",
   "metadata": {},
   "source": [
    "## use: pd.get_dummies"
   ]
  },
  {
   "cell_type": "markdown",
   "id": "6b71fcf3-a9b9-4ba6-8dff-bf3af0778a94",
   "metadata": {},
   "source": [
    "- Job (numeric: 0 - unskilled and non-resident, 1 - unskilled and resident, 2 - skilled, 3 - highly skilled)"
   ]
  },
  {
   "cell_type": "code",
   "execution_count": 63,
   "id": "c9c2ef29-bbaa-48eb-b951-e3e013616be4",
   "metadata": {},
   "outputs": [],
   "source": [
    "train['job'] = train.job.map({0:'unskilled_nonresident', 1:'unskilled', 2: 'skilled', 3: 'high_skill'})\n",
    "\n",
    "train['job'] = train['job'].astype('category')"
   ]
  },
  {
   "cell_type": "code",
   "execution_count": 32,
   "id": "a90e55c6-b6a8-41e0-a2ef-58cff8e33ab5",
   "metadata": {},
   "outputs": [
    {
     "data": {
      "text/plain": [
       "0"
      ]
     },
     "execution_count": 32,
     "metadata": {},
     "output_type": "execute_result"
    }
   ],
   "source": [
    "train['job'].isna().sum()"
   ]
  },
  {
   "cell_type": "code",
   "execution_count": 66,
   "id": "e36d186b-f911-4816-9628-401712d3d6e1",
   "metadata": {},
   "outputs": [],
   "source": [
    "train_dummies = pd.get_dummies(data=train, columns=['job'])"
   ]
  },
  {
   "cell_type": "code",
   "execution_count": 68,
   "id": "9cb8bd50-0081-45a9-9887-f3430df88516",
   "metadata": {},
   "outputs": [
    {
     "data": {
      "text/plain": [
       "Index(['age', 'sex', 'housing', 'saving accounts', 'checking account',\n",
       "       'credit amount', 'duration', 'purpose', 'risk', 'job_high_skill',\n",
       "       'job_skilled', 'job_unskilled', 'job_unskilled_nonresident'],\n",
       "      dtype='object')"
      ]
     },
     "execution_count": 68,
     "metadata": {},
     "output_type": "execute_result"
    }
   ],
   "source": [
    "train_dummies.columns"
   ]
  },
  {
   "cell_type": "code",
   "execution_count": 75,
   "id": "bbbcb42c-9f63-4a84-86f7-9f62dde48f67",
   "metadata": {},
   "outputs": [],
   "source": [
    "feature_list = ['age', 'sex', 'credit amount', 'duration', 'job_high_skill',\n",
    "       'job_skilled', 'job_unskilled', 'job_unskilled_nonresident']"
   ]
  },
  {
   "cell_type": "code",
   "execution_count": null,
   "id": "819f0938-220c-4e94-b520-1e7285e8345f",
   "metadata": {},
   "outputs": [],
   "source": []
  },
  {
   "cell_type": "code",
   "execution_count": 76,
   "id": "aa44fa7a-d8c9-4c93-a51d-22dc21171b11",
   "metadata": {},
   "outputs": [
    {
     "data": {
      "text/html": [
       "<div>\n",
       "<style scoped>\n",
       "    .dataframe tbody tr th:only-of-type {\n",
       "        vertical-align: middle;\n",
       "    }\n",
       "\n",
       "    .dataframe tbody tr th {\n",
       "        vertical-align: top;\n",
       "    }\n",
       "\n",
       "    .dataframe thead th {\n",
       "        text-align: right;\n",
       "    }\n",
       "</style>\n",
       "<table border=\"1\" class=\"dataframe\">\n",
       "  <thead>\n",
       "    <tr style=\"text-align: right;\">\n",
       "      <th></th>\n",
       "      <th>Potential_Feature</th>\n",
       "      <th>Coefficient</th>\n",
       "      <th>P-Value</th>\n",
       "      <th>Significance</th>\n",
       "      <th>Keep</th>\n",
       "    </tr>\n",
       "  </thead>\n",
       "  <tbody>\n",
       "    <tr>\n",
       "      <th>0</th>\n",
       "      <td>age</td>\n",
       "      <td>0.074</td>\n",
       "      <td>0.080</td>\n",
       "      <td>0.920</td>\n",
       "      <td>No</td>\n",
       "    </tr>\n",
       "    <tr>\n",
       "      <th>1</th>\n",
       "      <td>sex</td>\n",
       "      <td>0.067</td>\n",
       "      <td>0.113</td>\n",
       "      <td>0.887</td>\n",
       "      <td>No</td>\n",
       "    </tr>\n",
       "    <tr>\n",
       "      <th>2</th>\n",
       "      <td>credit amount</td>\n",
       "      <td>-0.156</td>\n",
       "      <td>0.000</td>\n",
       "      <td>1.000</td>\n",
       "      <td>Yes</td>\n",
       "    </tr>\n",
       "    <tr>\n",
       "      <th>3</th>\n",
       "      <td>duration</td>\n",
       "      <td>-0.209</td>\n",
       "      <td>0.000</td>\n",
       "      <td>1.000</td>\n",
       "      <td>Yes</td>\n",
       "    </tr>\n",
       "    <tr>\n",
       "      <th>4</th>\n",
       "      <td>job_high_skill</td>\n",
       "      <td>-0.000</td>\n",
       "      <td>0.992</td>\n",
       "      <td>0.008</td>\n",
       "      <td>No</td>\n",
       "    </tr>\n",
       "    <tr>\n",
       "      <th>5</th>\n",
       "      <td>job_skilled</td>\n",
       "      <td>-0.045</td>\n",
       "      <td>0.292</td>\n",
       "      <td>0.708</td>\n",
       "      <td>No</td>\n",
       "    </tr>\n",
       "    <tr>\n",
       "      <th>6</th>\n",
       "      <td>job_unskilled</td>\n",
       "      <td>0.056</td>\n",
       "      <td>0.186</td>\n",
       "      <td>0.814</td>\n",
       "      <td>No</td>\n",
       "    </tr>\n",
       "    <tr>\n",
       "      <th>7</th>\n",
       "      <td>job_unskilled_nonresident</td>\n",
       "      <td>-0.003</td>\n",
       "      <td>0.940</td>\n",
       "      <td>0.060</td>\n",
       "      <td>No</td>\n",
       "    </tr>\n",
       "  </tbody>\n",
       "</table>\n",
       "</div>"
      ],
      "text/plain": [
       "           Potential_Feature  Coefficient  P-Value  Significance Keep\n",
       "0                        age        0.074    0.080         0.920   No\n",
       "1                        sex        0.067    0.113         0.887   No\n",
       "2              credit amount       -0.156    0.000         1.000  Yes\n",
       "3                   duration       -0.209    0.000         1.000  Yes\n",
       "4             job_high_skill       -0.000    0.992         0.008   No\n",
       "5                job_skilled       -0.045    0.292         0.708   No\n",
       "6              job_unskilled        0.056    0.186         0.814   No\n",
       "7  job_unskilled_nonresident       -0.003    0.940         0.060   No"
      ]
     },
     "execution_count": 76,
     "metadata": {},
     "output_type": "execute_result"
    }
   ],
   "source": [
    "continuous_variable_test = ev.pearson_test_df(train_dummies, 'risk', feature_list)\n",
    "continuous_variable_test"
   ]
  },
  {
   "cell_type": "code",
   "execution_count": 134,
   "id": "16005b85-a2c3-4a59-ab33-87b50dd7ad9f",
   "metadata": {},
   "outputs": [
    {
     "data": {
      "text/html": [
       "<div>\n",
       "<style scoped>\n",
       "    .dataframe tbody tr th:only-of-type {\n",
       "        vertical-align: middle;\n",
       "    }\n",
       "\n",
       "    .dataframe tbody tr th {\n",
       "        vertical-align: top;\n",
       "    }\n",
       "\n",
       "    .dataframe thead th {\n",
       "        text-align: right;\n",
       "    }\n",
       "</style>\n",
       "<table border=\"1\" class=\"dataframe\">\n",
       "  <thead>\n",
       "    <tr style=\"text-align: right;\">\n",
       "      <th></th>\n",
       "      <th>age</th>\n",
       "      <th>sex</th>\n",
       "      <th>job</th>\n",
       "      <th>housing</th>\n",
       "      <th>saving accounts</th>\n",
       "      <th>checking account</th>\n",
       "      <th>credit amount</th>\n",
       "      <th>duration</th>\n",
       "      <th>purpose</th>\n",
       "      <th>risk</th>\n",
       "      <th>age_groups</th>\n",
       "    </tr>\n",
       "  </thead>\n",
       "  <tbody>\n",
       "    <tr>\n",
       "      <th>188</th>\n",
       "      <td>20</td>\n",
       "      <td>1</td>\n",
       "      <td>skilled</td>\n",
       "      <td>own</td>\n",
       "      <td>moderate</td>\n",
       "      <td>little</td>\n",
       "      <td>674</td>\n",
       "      <td>12</td>\n",
       "      <td>radio/TV</td>\n",
       "      <td>0</td>\n",
       "      <td>early_life</td>\n",
       "    </tr>\n",
       "    <tr>\n",
       "      <th>849</th>\n",
       "      <td>57</td>\n",
       "      <td>1</td>\n",
       "      <td>unskilled</td>\n",
       "      <td>own</td>\n",
       "      <td>little</td>\n",
       "      <td>little</td>\n",
       "      <td>709</td>\n",
       "      <td>12</td>\n",
       "      <td>radio/TV</td>\n",
       "      <td>0</td>\n",
       "      <td>older</td>\n",
       "    </tr>\n",
       "    <tr>\n",
       "      <th>212</th>\n",
       "      <td>50</td>\n",
       "      <td>1</td>\n",
       "      <td>skilled</td>\n",
       "      <td>own</td>\n",
       "      <td>little</td>\n",
       "      <td>little</td>\n",
       "      <td>5293</td>\n",
       "      <td>27</td>\n",
       "      <td>business</td>\n",
       "      <td>0</td>\n",
       "      <td>older</td>\n",
       "    </tr>\n",
       "    <tr>\n",
       "      <th>581</th>\n",
       "      <td>49</td>\n",
       "      <td>1</td>\n",
       "      <td>unskilled</td>\n",
       "      <td>own</td>\n",
       "      <td>little</td>\n",
       "      <td>moderate</td>\n",
       "      <td>3124</td>\n",
       "      <td>12</td>\n",
       "      <td>car</td>\n",
       "      <td>1</td>\n",
       "      <td>older</td>\n",
       "    </tr>\n",
       "    <tr>\n",
       "      <th>721</th>\n",
       "      <td>24</td>\n",
       "      <td>0</td>\n",
       "      <td>skilled</td>\n",
       "      <td>rent</td>\n",
       "      <td>rich</td>\n",
       "      <td>moderate</td>\n",
       "      <td>433</td>\n",
       "      <td>6</td>\n",
       "      <td>education</td>\n",
       "      <td>0</td>\n",
       "      <td>early_life</td>\n",
       "    </tr>\n",
       "  </tbody>\n",
       "</table>\n",
       "</div>"
      ],
      "text/plain": [
       "     age  sex        job housing saving accounts checking account  \\\n",
       "188   20    1    skilled     own        moderate           little   \n",
       "849   57    1  unskilled     own          little           little   \n",
       "212   50    1    skilled     own          little           little   \n",
       "581   49    1  unskilled     own          little         moderate   \n",
       "721   24    0    skilled    rent            rich         moderate   \n",
       "\n",
       "     credit amount  duration    purpose risk  age_groups  \n",
       "188            674        12   radio/TV    0  early_life  \n",
       "849            709        12   radio/TV    0       older  \n",
       "212           5293        27   business    0       older  \n",
       "581           3124        12        car    1       older  \n",
       "721            433         6  education    0  early_life  "
      ]
     },
     "execution_count": 134,
     "metadata": {},
     "output_type": "execute_result"
    }
   ],
   "source": [
    "train.head()"
   ]
  },
  {
   "cell_type": "code",
   "execution_count": 135,
   "id": "1417048b-56c0-4386-928d-234aecb352b3",
   "metadata": {},
   "outputs": [],
   "source": [
    "train['risk'] = train['risk'].astype(int)"
   ]
  },
  {
   "cell_type": "code",
   "execution_count": 136,
   "id": "e8c3f80e-c76a-4546-ab60-866c691b8fb7",
   "metadata": {},
   "outputs": [
    {
     "data": {
      "image/png": "[encoded data removed]",
      "text/plain": [
       "<Figure size 1000x1000 with 2 Axes>"
      ]
     },
     "metadata": {},
     "output_type": "display_data"
    }
   ],
   "source": [
    "ev.correlate_viz(train, 'risk')"
   ]
  },
  {
   "cell_type": "code",
   "execution_count": null,
   "id": "7f5dd0cf-2036-4d61-b6f9-a0a355600777",
   "metadata": {},
   "outputs": [],
   "source": [
    "heatmap = sns.heatmap(df.corr()[[target]].sort_values(by=target, ascending = False), vmin=-1, vmax=1, annot=True,cmap='BrBG')"
   ]
  },
  {
   "cell_type": "code",
   "execution_count": 137,
   "id": "950a9bb2-7d6f-44be-9b8e-e50f37fb6f0f",
   "metadata": {},
   "outputs": [
    {
     "data": {
      "text/html": [
       "<div>\n",
       "<style scoped>\n",
       "    .dataframe tbody tr th:only-of-type {\n",
       "        vertical-align: middle;\n",
       "    }\n",
       "\n",
       "    .dataframe tbody tr th {\n",
       "        vertical-align: top;\n",
       "    }\n",
       "\n",
       "    .dataframe thead th {\n",
       "        text-align: right;\n",
       "    }\n",
       "</style>\n",
       "<table border=\"1\" class=\"dataframe\">\n",
       "  <thead>\n",
       "    <tr style=\"text-align: right;\">\n",
       "      <th></th>\n",
       "      <th>age</th>\n",
       "      <th>sex</th>\n",
       "      <th>credit amount</th>\n",
       "      <th>duration</th>\n",
       "      <th>risk</th>\n",
       "    </tr>\n",
       "  </thead>\n",
       "  <tbody>\n",
       "    <tr>\n",
       "      <th>age</th>\n",
       "      <td>1.000</td>\n",
       "      <td>0.136</td>\n",
       "      <td>0.068</td>\n",
       "      <td>0.007</td>\n",
       "      <td>0.074</td>\n",
       "    </tr>\n",
       "    <tr>\n",
       "      <th>sex</th>\n",
       "      <td>0.136</td>\n",
       "      <td>1.000</td>\n",
       "      <td>0.074</td>\n",
       "      <td>0.061</td>\n",
       "      <td>0.067</td>\n",
       "    </tr>\n",
       "    <tr>\n",
       "      <th>credit amount</th>\n",
       "      <td>0.068</td>\n",
       "      <td>0.074</td>\n",
       "      <td>1.000</td>\n",
       "      <td>0.638</td>\n",
       "      <td>-0.156</td>\n",
       "    </tr>\n",
       "    <tr>\n",
       "      <th>duration</th>\n",
       "      <td>0.007</td>\n",
       "      <td>0.061</td>\n",
       "      <td>0.638</td>\n",
       "      <td>1.000</td>\n",
       "      <td>-0.209</td>\n",
       "    </tr>\n",
       "    <tr>\n",
       "      <th>risk</th>\n",
       "      <td>0.074</td>\n",
       "      <td>0.067</td>\n",
       "      <td>-0.156</td>\n",
       "      <td>-0.209</td>\n",
       "      <td>1.000</td>\n",
       "    </tr>\n",
       "  </tbody>\n",
       "</table>\n",
       "</div>"
      ],
      "text/plain": [
       "                age   sex  credit amount  duration   risk\n",
       "age           1.000 0.136          0.068     0.007  0.074\n",
       "sex           0.136 1.000          0.074     0.061  0.067\n",
       "credit amount 0.068 0.074          1.000     0.638 -0.156\n",
       "duration      0.007 0.061          0.638     1.000 -0.209\n",
       "risk          0.074 0.067         -0.156    -0.209  1.000"
      ]
     },
     "execution_count": 137,
     "metadata": {},
     "output_type": "execute_result"
    }
   ],
   "source": [
    "train.corr()"
   ]
  },
  {
   "cell_type": "code",
   "execution_count": 70,
   "id": "781cab22-b8c6-4c3d-bd6a-370486430485",
   "metadata": {},
   "outputs": [
    {
     "data": {
      "text/plain": [
       "['skilled', 'unskilled', 'high_skill', 'unskilled_nonresident']"
      ]
     },
     "execution_count": 70,
     "metadata": {},
     "output_type": "execute_result"
    }
   ],
   "source": [
    "train['job'].unique().to_list()"
   ]
  },
  {
   "cell_type": "code",
   "execution_count": 78,
   "id": "e9c500a1-c212-4363-a1ed-e94e112769a1",
   "metadata": {},
   "outputs": [],
   "source": [
    "def ftest_age(df):\n",
    "    #f, p = f_oneway(df[df[var] \n",
    "    \n",
    "    f, p = f_oneway(df[df['age_groups'] == 'early_life'].risk, \n",
    "                   df[df['age_groups'] == 'early_established'].risk,\n",
    "                   df[df['age_groups'] == 'established'].risk,\n",
    "                   df[df['age_groups'] == 'older'].risk)\n",
    "                    \n",
    "    #print(f'F-statistics: {round(f, 3)}, p: {round(1-p, 3)}')\n",
    "    return f, p"
   ]
  },
  {
   "cell_type": "code",
   "execution_count": 81,
   "id": "c24517e4-33a9-427b-b1e1-8fababfe816f",
   "metadata": {},
   "outputs": [],
   "source": [
    "def bin_age(df):\n",
    "    #creating bins for ages\n",
    "\n",
    "    age_groups = (19,26,33,45,75)\n",
    "    age_categories = ['early_life','early_established','established','older']\n",
    "\n",
    "    df['age_groups'] = pd.cut(df['age'],age_groups, labels=age_categories)"
   ]
  },
  {
   "cell_type": "code",
   "execution_count": 214,
   "id": "2d5c2141-b639-4521-9903-0a2f519a35eb",
   "metadata": {},
   "outputs": [
    {
     "data": {
      "text/html": [
       "<div>\n",
       "<style scoped>\n",
       "    .dataframe tbody tr th:only-of-type {\n",
       "        vertical-align: middle;\n",
       "    }\n",
       "\n",
       "    .dataframe tbody tr th {\n",
       "        vertical-align: top;\n",
       "    }\n",
       "\n",
       "    .dataframe thead th {\n",
       "        text-align: right;\n",
       "    }\n",
       "</style>\n",
       "<table border=\"1\" class=\"dataframe\">\n",
       "  <thead>\n",
       "    <tr style=\"text-align: right;\">\n",
       "      <th></th>\n",
       "      <th>Potential_Feature</th>\n",
       "      <th>Chi2_stat</th>\n",
       "      <th>P-Value</th>\n",
       "      <th>Significance</th>\n",
       "      <th>Keep</th>\n",
       "    </tr>\n",
       "  </thead>\n",
       "  <tbody>\n",
       "    <tr>\n",
       "      <th>0</th>\n",
       "      <td>housing</td>\n",
       "      <td>9.857</td>\n",
       "      <td>0.007</td>\n",
       "      <td>0.993</td>\n",
       "      <td>Yes</td>\n",
       "    </tr>\n",
       "    <tr>\n",
       "      <th>1</th>\n",
       "      <td>saving accounts</td>\n",
       "      <td>23.391</td>\n",
       "      <td>0.000</td>\n",
       "      <td>1.000</td>\n",
       "      <td>Yes</td>\n",
       "    </tr>\n",
       "    <tr>\n",
       "      <th>2</th>\n",
       "      <td>checking account</td>\n",
       "      <td>61.523</td>\n",
       "      <td>0.000</td>\n",
       "      <td>1.000</td>\n",
       "      <td>Yes</td>\n",
       "    </tr>\n",
       "    <tr>\n",
       "      <th>3</th>\n",
       "      <td>job</td>\n",
       "      <td>1.815</td>\n",
       "      <td>0.612</td>\n",
       "      <td>0.388</td>\n",
       "      <td>No</td>\n",
       "    </tr>\n",
       "    <tr>\n",
       "      <th>4</th>\n",
       "      <td>age_groups</td>\n",
       "      <td>9.731</td>\n",
       "      <td>0.021</td>\n",
       "      <td>0.979</td>\n",
       "      <td>Yes</td>\n",
       "    </tr>\n",
       "    <tr>\n",
       "      <th>5</th>\n",
       "      <td>loan_duration_groups</td>\n",
       "      <td>32.370</td>\n",
       "      <td>0.000</td>\n",
       "      <td>1.000</td>\n",
       "      <td>Yes</td>\n",
       "    </tr>\n",
       "  </tbody>\n",
       "</table>\n",
       "</div>"
      ],
      "text/plain": [
       "      Potential_Feature  Chi2_stat  P-Value  Significance Keep\n",
       "0               housing      9.857    0.007         0.993  Yes\n",
       "1       saving accounts     23.391    0.000         1.000  Yes\n",
       "2      checking account     61.523    0.000         1.000  Yes\n",
       "3                   job      1.815    0.612         0.388   No\n",
       "4            age_groups      9.731    0.021         0.979  Yes\n",
       "5  loan_duration_groups     32.370    0.000         1.000  Yes"
      ]
     },
     "execution_count": 214,
     "metadata": {},
     "output_type": "execute_result"
    }
   ],
   "source": [
    "cat_var_list = ['housing', 'saving accounts', 'checking account', 'job', 'age_groups', 'loan_duration_groups']\n",
    "categorical_variable_df = ev.chi2_categorical_test(train, 'risk', cat_var_list)\n",
    "categorical_variable_df"
   ]
  },
  {
   "cell_type": "code",
   "execution_count": 143,
   "id": "7f59783e-00d5-4777-9295-8f350f0ec210",
   "metadata": {},
   "outputs": [
    {
     "data": {
      "text/html": [
       "<div>\n",
       "<style scoped>\n",
       "    .dataframe tbody tr th:only-of-type {\n",
       "        vertical-align: middle;\n",
       "    }\n",
       "\n",
       "    .dataframe tbody tr th {\n",
       "        vertical-align: top;\n",
       "    }\n",
       "\n",
       "    .dataframe thead th {\n",
       "        text-align: right;\n",
       "    }\n",
       "</style>\n",
       "<table border=\"1\" class=\"dataframe\">\n",
       "  <thead>\n",
       "    <tr style=\"text-align: right;\">\n",
       "      <th></th>\n",
       "      <th>sex</th>\n",
       "      <th>job</th>\n",
       "      <th>housing</th>\n",
       "      <th>saving accounts</th>\n",
       "      <th>checking account</th>\n",
       "      <th>credit amount</th>\n",
       "      <th>duration</th>\n",
       "      <th>purpose</th>\n",
       "      <th>risk</th>\n",
       "      <th>age_groups</th>\n",
       "    </tr>\n",
       "  </thead>\n",
       "  <tbody>\n",
       "    <tr>\n",
       "      <th>188</th>\n",
       "      <td>1</td>\n",
       "      <td>skilled</td>\n",
       "      <td>own</td>\n",
       "      <td>moderate</td>\n",
       "      <td>little</td>\n",
       "      <td>674</td>\n",
       "      <td>12</td>\n",
       "      <td>radio/TV</td>\n",
       "      <td>0</td>\n",
       "      <td>early_life</td>\n",
       "    </tr>\n",
       "    <tr>\n",
       "      <th>849</th>\n",
       "      <td>1</td>\n",
       "      <td>unskilled</td>\n",
       "      <td>own</td>\n",
       "      <td>little</td>\n",
       "      <td>little</td>\n",
       "      <td>709</td>\n",
       "      <td>12</td>\n",
       "      <td>radio/TV</td>\n",
       "      <td>0</td>\n",
       "      <td>older</td>\n",
       "    </tr>\n",
       "    <tr>\n",
       "      <th>212</th>\n",
       "      <td>1</td>\n",
       "      <td>skilled</td>\n",
       "      <td>own</td>\n",
       "      <td>little</td>\n",
       "      <td>little</td>\n",
       "      <td>5293</td>\n",
       "      <td>27</td>\n",
       "      <td>business</td>\n",
       "      <td>0</td>\n",
       "      <td>older</td>\n",
       "    </tr>\n",
       "    <tr>\n",
       "      <th>581</th>\n",
       "      <td>1</td>\n",
       "      <td>unskilled</td>\n",
       "      <td>own</td>\n",
       "      <td>little</td>\n",
       "      <td>moderate</td>\n",
       "      <td>3124</td>\n",
       "      <td>12</td>\n",
       "      <td>car</td>\n",
       "      <td>1</td>\n",
       "      <td>older</td>\n",
       "    </tr>\n",
       "    <tr>\n",
       "      <th>721</th>\n",
       "      <td>0</td>\n",
       "      <td>skilled</td>\n",
       "      <td>rent</td>\n",
       "      <td>rich</td>\n",
       "      <td>moderate</td>\n",
       "      <td>433</td>\n",
       "      <td>6</td>\n",
       "      <td>education</td>\n",
       "      <td>0</td>\n",
       "      <td>early_life</td>\n",
       "    </tr>\n",
       "  </tbody>\n",
       "</table>\n",
       "</div>"
      ],
      "text/plain": [
       "     sex        job housing saving accounts checking account  credit amount  \\\n",
       "188    1    skilled     own        moderate           little            674   \n",
       "849    1  unskilled     own          little           little            709   \n",
       "212    1    skilled     own          little           little           5293   \n",
       "581    1  unskilled     own          little         moderate           3124   \n",
       "721    0    skilled    rent            rich         moderate            433   \n",
       "\n",
       "     duration    purpose  risk  age_groups  \n",
       "188        12   radio/TV     0  early_life  \n",
       "849        12   radio/TV     0       older  \n",
       "212        27   business     0       older  \n",
       "581        12        car     1       older  \n",
       "721         6  education     0  early_life  "
      ]
     },
     "execution_count": 143,
     "metadata": {},
     "output_type": "execute_result"
    }
   ],
   "source": [
    "train.head()"
   ]
  },
  {
   "cell_type": "code",
   "execution_count": 150,
   "id": "49b6e04a-1cb3-45d6-b80d-8a7674bc1ff0",
   "metadata": {},
   "outputs": [
    {
     "data": {
      "text/plain": [
       "['radio/TV',\n",
       " 'business',\n",
       " 'car',\n",
       " 'education',\n",
       " 'repairs',\n",
       " 'furniture/equipment',\n",
       " 'domestic appliances',\n",
       " 'vacation/others']"
      ]
     },
     "execution_count": 150,
     "metadata": {},
     "output_type": "execute_result"
    }
   ],
   "source": [
    "train['purpose'].unique().tolist()"
   ]
  },
  {
   "cell_type": "code",
   "execution_count": 215,
   "id": "aa769f7a-4be3-4dd0-b5e1-7d911e6ebb26",
   "metadata": {},
   "outputs": [],
   "source": [
    "def plot_duration(df):\n",
    "    a = df[(df['duration'] < 12)]\n",
    "    b = df[(df['duration'] == 12)]\n",
    "    c = df[(df['duration'] > 12) & (train['duration'] < 36)]\n",
    "    d = df[(df['duration'] == 36)]\n",
    "    e = df[(df['duration'] > 36)]\n",
    "\n",
    "    len(a), len(b), len(c), len(d), len(e)\n",
    "\n",
    "    for i in [a,b,c,d,e]:\n",
    "\n",
    "        sns.histplot(x= i['duration'], hue = i['risk'])\n",
    "        plt.show()"
   ]
  },
  {
   "cell_type": "code",
   "execution_count": 216,
   "id": "969334a2-2f25-4b92-8004-d2fb0b788872",
   "metadata": {},
   "outputs": [
    {
     "ename": "KeyError",
     "evalue": "'duration'",
     "output_type": "error",
     "traceback": [
      "\u001b[0;31m---------------------------------------------------------------------------\u001b[0m",
      "\u001b[0;31mKeyError\u001b[0m                                  Traceback (most recent call last)",
      "\u001b[0;32m/usr/local/anaconda3/lib/python3.9/site-packages/pandas/core/indexes/base.py\u001b[0m in \u001b[0;36mget_loc\u001b[0;34m(self, key, method, tolerance)\u001b[0m\n\u001b[1;32m   3628\u001b[0m             \u001b[0;32mtry\u001b[0m\u001b[0;34m:\u001b[0m\u001b[0;34m\u001b[0m\u001b[0;34m\u001b[0m\u001b[0m\n\u001b[0;32m-> 3629\u001b[0;31m                 \u001b[0;32mreturn\u001b[0m \u001b[0mself\u001b[0m\u001b[0;34m.\u001b[0m\u001b[0m_engine\u001b[0m\u001b[0;34m.\u001b[0m\u001b[0mget_loc\u001b[0m\u001b[0;34m(\u001b[0m\u001b[0mcasted_key\u001b[0m\u001b[0;34m)\u001b[0m\u001b[0;34m\u001b[0m\u001b[0;34m\u001b[0m\u001b[0m\n\u001b[0m\u001b[1;32m   3630\u001b[0m             \u001b[0;32mexcept\u001b[0m \u001b[0mKeyError\u001b[0m \u001b[0;32mas\u001b[0m \u001b[0merr\u001b[0m\u001b[0;34m:\u001b[0m\u001b[0;34m\u001b[0m\u001b[0;34m\u001b[0m\u001b[0m\n",
      "\u001b[0;32m/usr/local/anaconda3/lib/python3.9/site-packages/pandas/_libs/index.pyx\u001b[0m in \u001b[0;36mpandas._libs.index.IndexEngine.get_loc\u001b[0;34m()\u001b[0m\n",
      "\u001b[0;32m/usr/local/anaconda3/lib/python3.9/site-packages/pandas/_libs/index.pyx\u001b[0m in \u001b[0;36mpandas._libs.index.IndexEngine.get_loc\u001b[0;34m()\u001b[0m\n",
      "\u001b[0;32mpandas/_libs/hashtable_class_helper.pxi\u001b[0m in \u001b[0;36mpandas._libs.hashtable.PyObjectHashTable.get_item\u001b[0;34m()\u001b[0m\n",
      "\u001b[0;32mpandas/_libs/hashtable_class_helper.pxi\u001b[0m in \u001b[0;36mpandas._libs.hashtable.PyObjectHashTable.get_item\u001b[0;34m()\u001b[0m\n",
      "\u001b[0;31mKeyError\u001b[0m: 'duration'",
      "\nThe above exception was the direct cause of the following exception:\n",
      "\u001b[0;31mKeyError\u001b[0m                                  Traceback (most recent call last)",
      "\u001b[0;32m/var/folders/hf/46l4fb0x1bj47kh2tdxlqp1h0000gn/T/ipykernel_36998/1850829024.py\u001b[0m in \u001b[0;36m<module>\u001b[0;34m\u001b[0m\n\u001b[0;32m----> 1\u001b[0;31m \u001b[0mplot_duration\u001b[0m\u001b[0;34m(\u001b[0m\u001b[0mdf\u001b[0m\u001b[0;34m)\u001b[0m\u001b[0;34m\u001b[0m\u001b[0;34m\u001b[0m\u001b[0m\n\u001b[0m",
      "\u001b[0;32m/var/folders/hf/46l4fb0x1bj47kh2tdxlqp1h0000gn/T/ipykernel_36998/3200775142.py\u001b[0m in \u001b[0;36mplot_duration\u001b[0;34m(df)\u001b[0m\n\u001b[1;32m      1\u001b[0m \u001b[0;32mdef\u001b[0m \u001b[0mplot_duration\u001b[0m\u001b[0;34m(\u001b[0m\u001b[0mdf\u001b[0m\u001b[0;34m)\u001b[0m\u001b[0;34m:\u001b[0m\u001b[0;34m\u001b[0m\u001b[0;34m\u001b[0m\u001b[0m\n\u001b[0;32m----> 2\u001b[0;31m     \u001b[0ma\u001b[0m \u001b[0;34m=\u001b[0m \u001b[0mdf\u001b[0m\u001b[0;34m[\u001b[0m\u001b[0;34m(\u001b[0m\u001b[0mdf\u001b[0m\u001b[0;34m[\u001b[0m\u001b[0;34m'duration'\u001b[0m\u001b[0;34m]\u001b[0m \u001b[0;34m<\u001b[0m \u001b[0;36m12\u001b[0m\u001b[0;34m)\u001b[0m\u001b[0;34m]\u001b[0m\u001b[0;34m\u001b[0m\u001b[0;34m\u001b[0m\u001b[0m\n\u001b[0m\u001b[1;32m      3\u001b[0m     \u001b[0mb\u001b[0m \u001b[0;34m=\u001b[0m \u001b[0mdf\u001b[0m\u001b[0;34m[\u001b[0m\u001b[0;34m(\u001b[0m\u001b[0mdf\u001b[0m\u001b[0;34m[\u001b[0m\u001b[0;34m'duration'\u001b[0m\u001b[0;34m]\u001b[0m \u001b[0;34m==\u001b[0m \u001b[0;36m12\u001b[0m\u001b[0;34m)\u001b[0m\u001b[0;34m]\u001b[0m\u001b[0;34m\u001b[0m\u001b[0;34m\u001b[0m\u001b[0m\n\u001b[1;32m      4\u001b[0m     \u001b[0mc\u001b[0m \u001b[0;34m=\u001b[0m \u001b[0mdf\u001b[0m\u001b[0;34m[\u001b[0m\u001b[0;34m(\u001b[0m\u001b[0mdf\u001b[0m\u001b[0;34m[\u001b[0m\u001b[0;34m'duration'\u001b[0m\u001b[0;34m]\u001b[0m \u001b[0;34m>\u001b[0m \u001b[0;36m12\u001b[0m\u001b[0;34m)\u001b[0m \u001b[0;34m&\u001b[0m \u001b[0;34m(\u001b[0m\u001b[0mtrain\u001b[0m\u001b[0;34m[\u001b[0m\u001b[0;34m'duration'\u001b[0m\u001b[0;34m]\u001b[0m \u001b[0;34m<\u001b[0m \u001b[0;36m36\u001b[0m\u001b[0;34m)\u001b[0m\u001b[0;34m]\u001b[0m\u001b[0;34m\u001b[0m\u001b[0;34m\u001b[0m\u001b[0m\n\u001b[1;32m      5\u001b[0m     \u001b[0md\u001b[0m \u001b[0;34m=\u001b[0m \u001b[0mdf\u001b[0m\u001b[0;34m[\u001b[0m\u001b[0;34m(\u001b[0m\u001b[0mdf\u001b[0m\u001b[0;34m[\u001b[0m\u001b[0;34m'duration'\u001b[0m\u001b[0;34m]\u001b[0m \u001b[0;34m==\u001b[0m \u001b[0;36m36\u001b[0m\u001b[0;34m)\u001b[0m\u001b[0;34m]\u001b[0m\u001b[0;34m\u001b[0m\u001b[0;34m\u001b[0m\u001b[0m\n",
      "\u001b[0;32m/usr/local/anaconda3/lib/python3.9/site-packages/pandas/core/frame.py\u001b[0m in \u001b[0;36m__getitem__\u001b[0;34m(self, key)\u001b[0m\n\u001b[1;32m   3503\u001b[0m             \u001b[0;32mif\u001b[0m \u001b[0mself\u001b[0m\u001b[0;34m.\u001b[0m\u001b[0mcolumns\u001b[0m\u001b[0;34m.\u001b[0m\u001b[0mnlevels\u001b[0m \u001b[0;34m>\u001b[0m \u001b[0;36m1\u001b[0m\u001b[0;34m:\u001b[0m\u001b[0;34m\u001b[0m\u001b[0;34m\u001b[0m\u001b[0m\n\u001b[1;32m   3504\u001b[0m                 \u001b[0;32mreturn\u001b[0m \u001b[0mself\u001b[0m\u001b[0;34m.\u001b[0m\u001b[0m_getitem_multilevel\u001b[0m\u001b[0;34m(\u001b[0m\u001b[0mkey\u001b[0m\u001b[0;34m)\u001b[0m\u001b[0;34m\u001b[0m\u001b[0;34m\u001b[0m\u001b[0m\n\u001b[0;32m-> 3505\u001b[0;31m             \u001b[0mindexer\u001b[0m \u001b[0;34m=\u001b[0m \u001b[0mself\u001b[0m\u001b[0;34m.\u001b[0m\u001b[0mcolumns\u001b[0m\u001b[0;34m.\u001b[0m\u001b[0mget_loc\u001b[0m\u001b[0;34m(\u001b[0m\u001b[0mkey\u001b[0m\u001b[0;34m)\u001b[0m\u001b[0;34m\u001b[0m\u001b[0;34m\u001b[0m\u001b[0m\n\u001b[0m\u001b[1;32m   3506\u001b[0m             \u001b[0;32mif\u001b[0m \u001b[0mis_integer\u001b[0m\u001b[0;34m(\u001b[0m\u001b[0mindexer\u001b[0m\u001b[0;34m)\u001b[0m\u001b[0;34m:\u001b[0m\u001b[0;34m\u001b[0m\u001b[0;34m\u001b[0m\u001b[0m\n\u001b[1;32m   3507\u001b[0m                 \u001b[0mindexer\u001b[0m \u001b[0;34m=\u001b[0m \u001b[0;34m[\u001b[0m\u001b[0mindexer\u001b[0m\u001b[0;34m]\u001b[0m\u001b[0;34m\u001b[0m\u001b[0;34m\u001b[0m\u001b[0m\n",
      "\u001b[0;32m/usr/local/anaconda3/lib/python3.9/site-packages/pandas/core/indexes/base.py\u001b[0m in \u001b[0;36mget_loc\u001b[0;34m(self, key, method, tolerance)\u001b[0m\n\u001b[1;32m   3629\u001b[0m                 \u001b[0;32mreturn\u001b[0m \u001b[0mself\u001b[0m\u001b[0;34m.\u001b[0m\u001b[0m_engine\u001b[0m\u001b[0;34m.\u001b[0m\u001b[0mget_loc\u001b[0m\u001b[0;34m(\u001b[0m\u001b[0mcasted_key\u001b[0m\u001b[0;34m)\u001b[0m\u001b[0;34m\u001b[0m\u001b[0;34m\u001b[0m\u001b[0m\n\u001b[1;32m   3630\u001b[0m             \u001b[0;32mexcept\u001b[0m \u001b[0mKeyError\u001b[0m \u001b[0;32mas\u001b[0m \u001b[0merr\u001b[0m\u001b[0;34m:\u001b[0m\u001b[0;34m\u001b[0m\u001b[0;34m\u001b[0m\u001b[0m\n\u001b[0;32m-> 3631\u001b[0;31m                 \u001b[0;32mraise\u001b[0m \u001b[0mKeyError\u001b[0m\u001b[0;34m(\u001b[0m\u001b[0mkey\u001b[0m\u001b[0;34m)\u001b[0m \u001b[0;32mfrom\u001b[0m \u001b[0merr\u001b[0m\u001b[0;34m\u001b[0m\u001b[0;34m\u001b[0m\u001b[0m\n\u001b[0m\u001b[1;32m   3632\u001b[0m             \u001b[0;32mexcept\u001b[0m \u001b[0mTypeError\u001b[0m\u001b[0;34m:\u001b[0m\u001b[0;34m\u001b[0m\u001b[0;34m\u001b[0m\u001b[0m\n\u001b[1;32m   3633\u001b[0m                 \u001b[0;31m# If we have a listlike key, _check_indexing_error will raise\u001b[0m\u001b[0;34m\u001b[0m\u001b[0;34m\u001b[0m\u001b[0m\n",
      "\u001b[0;31mKeyError\u001b[0m: 'duration'"
     ]
    }
   ],
   "source": [
    "plot_duration(df)"
   ]
  },
  {
   "cell_type": "code",
   "execution_count": 211,
   "id": "8033959b-51fc-4fae-9165-1e54b93ab17a",
   "metadata": {},
   "outputs": [
    {
     "ename": "TypeError",
     "evalue": "'type' object does not support item assignment",
     "output_type": "error",
     "traceback": [
      "\u001b[0;31m---------------------------------------------------------------------------\u001b[0m",
      "\u001b[0;31mTypeError\u001b[0m                                 Traceback (most recent call last)",
      "\u001b[0;32m/var/folders/hf/46l4fb0x1bj47kh2tdxlqp1h0000gn/T/ipykernel_36998/814115763.py\u001b[0m in \u001b[0;36m<module>\u001b[0;34m\u001b[0m\n\u001b[1;32m      1\u001b[0m \u001b[0ma\u001b[0m \u001b[0;34m=\u001b[0m \u001b[0mpd\u001b[0m\u001b[0;34m.\u001b[0m\u001b[0mDataFrame\u001b[0m\u001b[0;34m\u001b[0m\u001b[0;34m\u001b[0m\u001b[0m\n\u001b[0;32m----> 2\u001b[0;31m \u001b[0ma\u001b[0m\u001b[0;34m[\u001b[0m\u001b[0;34m'short_loan'\u001b[0m\u001b[0;34m]\u001b[0m \u001b[0;34m=\u001b[0m \u001b[0mtrain\u001b[0m\u001b[0;34m[\u001b[0m\u001b[0;34m(\u001b[0m\u001b[0mtrain\u001b[0m\u001b[0;34m[\u001b[0m\u001b[0;34m'duration'\u001b[0m\u001b[0;34m]\u001b[0m \u001b[0;34m<\u001b[0m \u001b[0;36m12\u001b[0m\u001b[0;34m)\u001b[0m\u001b[0;34m]\u001b[0m\u001b[0;34m\u001b[0m\u001b[0;34m\u001b[0m\u001b[0m\n\u001b[0m\u001b[1;32m      3\u001b[0m \u001b[0ma\u001b[0m\u001b[0;34m[\u001b[0m\u001b[0;34m'year_loan'\u001b[0m\u001b[0;34m]\u001b[0m \u001b[0;34m=\u001b[0m \u001b[0mtrain\u001b[0m\u001b[0;34m[\u001b[0m\u001b[0;34m(\u001b[0m\u001b[0mtrain\u001b[0m\u001b[0;34m[\u001b[0m\u001b[0;34m'duration'\u001b[0m\u001b[0;34m]\u001b[0m \u001b[0;34m==\u001b[0m \u001b[0;36m12\u001b[0m\u001b[0;34m)\u001b[0m\u001b[0;34m]\u001b[0m\u001b[0;34m\u001b[0m\u001b[0;34m\u001b[0m\u001b[0m\n",
      "\u001b[0;31mTypeError\u001b[0m: 'type' object does not support item assignment"
     ]
    }
   ],
   "source": [
    "a = pd.DataFrame\n",
    "a['short_loan']==1 train[(train['duration'] < 12)]\n",
    "a['year_loan'] = train[(train['duration'] == 12)]"
   ]
  },
  {
   "cell_type": "code",
   "execution_count": 212,
   "id": "a88ce10a-2468-49fe-b16b-69306e78f927",
   "metadata": {},
   "outputs": [],
   "source": [
    "'''\n",
    "train[(train['duration'] < 12)]\n",
    "train[(train['duration'] == 12)]\n",
    "train[(train['duration'] > 12) & (train['duration'] < 36)]\n",
    "train[(train['duration'] == 36)]\n",
    "train[(train['duration'] > 36)]\n",
    "'''\n",
    "\n",
    "# the first number is the minimum value of the first group, the last number is the maximum value of the last group\n",
    "# the total number of groups is the length of the list - 1\n",
    "duration_groups = (0, 11, 12, 35, 36, 100)\n",
    "\n",
    "duration_names = ('short_term_loan', 'one_year_loan','medium_term_loan', 'three_year_loan', 'long_term_loan')\n",
    "\n",
    "train['loan_duration_groups'] = pd.cut(train['duration'], duration_groups, labels = duration_names)\n",
    "del train['duration']"
   ]
  },
  {
   "cell_type": "code",
   "execution_count": 213,
   "id": "ad50ba4d-6efe-4173-bec4-bf238380b5ec",
   "metadata": {},
   "outputs": [
    {
     "data": {
      "text/html": [
       "<div>\n",
       "<style scoped>\n",
       "    .dataframe tbody tr th:only-of-type {\n",
       "        vertical-align: middle;\n",
       "    }\n",
       "\n",
       "    .dataframe tbody tr th {\n",
       "        vertical-align: top;\n",
       "    }\n",
       "\n",
       "    .dataframe thead th {\n",
       "        text-align: right;\n",
       "    }\n",
       "</style>\n",
       "<table border=\"1\" class=\"dataframe\">\n",
       "  <thead>\n",
       "    <tr style=\"text-align: right;\">\n",
       "      <th></th>\n",
       "      <th>sex</th>\n",
       "      <th>job</th>\n",
       "      <th>housing</th>\n",
       "      <th>saving accounts</th>\n",
       "      <th>checking account</th>\n",
       "      <th>credit amount</th>\n",
       "      <th>duration</th>\n",
       "      <th>purpose</th>\n",
       "      <th>risk</th>\n",
       "      <th>age_groups</th>\n",
       "      <th>loan_duration_groups</th>\n",
       "    </tr>\n",
       "  </thead>\n",
       "  <tbody>\n",
       "    <tr>\n",
       "      <th>188</th>\n",
       "      <td>1</td>\n",
       "      <td>skilled</td>\n",
       "      <td>own</td>\n",
       "      <td>moderate</td>\n",
       "      <td>little</td>\n",
       "      <td>674</td>\n",
       "      <td>12</td>\n",
       "      <td>radio/TV</td>\n",
       "      <td>0</td>\n",
       "      <td>early_life</td>\n",
       "      <td>one_year_loan</td>\n",
       "    </tr>\n",
       "    <tr>\n",
       "      <th>849</th>\n",
       "      <td>1</td>\n",
       "      <td>unskilled</td>\n",
       "      <td>own</td>\n",
       "      <td>little</td>\n",
       "      <td>little</td>\n",
       "      <td>709</td>\n",
       "      <td>12</td>\n",
       "      <td>radio/TV</td>\n",
       "      <td>0</td>\n",
       "      <td>older</td>\n",
       "      <td>one_year_loan</td>\n",
       "    </tr>\n",
       "    <tr>\n",
       "      <th>212</th>\n",
       "      <td>1</td>\n",
       "      <td>skilled</td>\n",
       "      <td>own</td>\n",
       "      <td>little</td>\n",
       "      <td>little</td>\n",
       "      <td>5293</td>\n",
       "      <td>27</td>\n",
       "      <td>business</td>\n",
       "      <td>0</td>\n",
       "      <td>older</td>\n",
       "      <td>medium_term_loan</td>\n",
       "    </tr>\n",
       "    <tr>\n",
       "      <th>581</th>\n",
       "      <td>1</td>\n",
       "      <td>unskilled</td>\n",
       "      <td>own</td>\n",
       "      <td>little</td>\n",
       "      <td>moderate</td>\n",
       "      <td>3124</td>\n",
       "      <td>12</td>\n",
       "      <td>car</td>\n",
       "      <td>1</td>\n",
       "      <td>older</td>\n",
       "      <td>one_year_loan</td>\n",
       "    </tr>\n",
       "    <tr>\n",
       "      <th>721</th>\n",
       "      <td>0</td>\n",
       "      <td>skilled</td>\n",
       "      <td>rent</td>\n",
       "      <td>rich</td>\n",
       "      <td>moderate</td>\n",
       "      <td>433</td>\n",
       "      <td>6</td>\n",
       "      <td>education</td>\n",
       "      <td>0</td>\n",
       "      <td>early_life</td>\n",
       "      <td>short_term_loan</td>\n",
       "    </tr>\n",
       "  </tbody>\n",
       "</table>\n",
       "</div>"
      ],
      "text/plain": [
       "     sex        job housing saving accounts checking account  credit amount  \\\n",
       "188    1    skilled     own        moderate           little            674   \n",
       "849    1  unskilled     own          little           little            709   \n",
       "212    1    skilled     own          little           little           5293   \n",
       "581    1  unskilled     own          little         moderate           3124   \n",
       "721    0    skilled    rent            rich         moderate            433   \n",
       "\n",
       "     duration    purpose  risk  age_groups loan_duration_groups  \n",
       "188        12   radio/TV     0  early_life        one_year_loan  \n",
       "849        12   radio/TV     0       older        one_year_loan  \n",
       "212        27   business     0       older     medium_term_loan  \n",
       "581        12        car     1       older        one_year_loan  \n",
       "721         6  education     0  early_life      short_term_loan  "
      ]
     },
     "execution_count": 213,
     "metadata": {},
     "output_type": "execute_result"
    }
   ],
   "source": [
    "train.head()"
   ]
  },
  {
   "cell_type": "code",
   "execution_count": 174,
   "id": "f469fd53-f804-4bb4-b7bf-e1fab342bcfc",
   "metadata": {},
   "outputs": [
    {
     "data": {
      "text/plain": [
       "106"
      ]
     },
     "execution_count": 174,
     "metadata": {},
     "output_type": "execute_result"
    }
   ],
   "source": [
    "(train.duration < 12).sum()"
   ]
  },
  {
   "cell_type": "code",
   "execution_count": 159,
   "id": "fe862a18-70ce-4d89-91f1-1361c49d7828",
   "metadata": {},
   "outputs": [
    {
     "data": {
      "text/plain": [
       "[4,\n",
       " 5,\n",
       " 6,\n",
       " 7,\n",
       " 8,\n",
       " 9,\n",
       " 10,\n",
       " 11,\n",
       " 12,\n",
       " 13,\n",
       " 14,\n",
       " 15,\n",
       " 16,\n",
       " 18,\n",
       " 20,\n",
       " 21,\n",
       " 22,\n",
       " 24,\n",
       " 27,\n",
       " 28,\n",
       " 30,\n",
       " 33,\n",
       " 36,\n",
       " 39,\n",
       " 40,\n",
       " 42,\n",
       " 45,\n",
       " 47,\n",
       " 48,\n",
       " 54,\n",
       " 60,\n",
       " 72]"
      ]
     },
     "execution_count": 159,
     "metadata": {},
     "output_type": "execute_result"
    }
   ],
   "source": [
    "sorted(train['duration'].unique().tolist())"
   ]
  },
  {
   "cell_type": "code",
   "execution_count": 147,
   "id": "06526ec5-cf71-4246-8968-cdf3cef4150d",
   "metadata": {},
   "outputs": [
    {
     "name": "stdout",
     "output_type": "stream",
     "text": [
      "<class 'pandas.core.frame.DataFrame'>\n",
      "Int64Index: 560 entries, 188 to 860\n",
      "Data columns (total 10 columns):\n",
      " #   Column            Non-Null Count  Dtype   \n",
      "---  ------            --------------  -----   \n",
      " 0   sex               560 non-null    int64   \n",
      " 1   job               560 non-null    category\n",
      " 2   housing           560 non-null    category\n",
      " 3   saving accounts   560 non-null    category\n",
      " 4   checking account  560 non-null    category\n",
      " 5   credit amount     560 non-null    int64   \n",
      " 6   duration          560 non-null    int64   \n",
      " 7   purpose           560 non-null    category\n",
      " 8   risk              560 non-null    int64   \n",
      " 9   age_groups        559 non-null    category\n",
      "dtypes: category(6), int64(4)\n",
      "memory usage: 26.4 KB\n"
     ]
    }
   ],
   "source": [
    "train.info()"
   ]
  },
  {
   "cell_type": "code",
   "execution_count": null,
   "id": "77c9829f-cd9d-45bc-ab62-0f6ce539c307",
   "metadata": {},
   "outputs": [],
   "source": []
  }
 ],
 "metadata": {
  "kernelspec": {
   "display_name": "Python 3 (ipykernel)",
   "language": "python",
   "name": "python3"
  },
  "language_info": {
   "codemirror_mode": {
    "name": "ipython",
    "version": 3
   },
   "file_extension": ".py",
   "mimetype": "text/x-python",
   "name": "python",
   "nbconvert_exporter": "python",
   "pygments_lexer": "ipython3",
   "version": "3.9.15"
  }
 },
 "nbformat": 4,
 "nbformat_minor": 5
}
